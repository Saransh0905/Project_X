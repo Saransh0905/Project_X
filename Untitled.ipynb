{
 "cells": [
  {
   "cell_type": "code",
   "execution_count": 28,
   "metadata": {},
   "outputs": [
    {
     "name": "stdout",
     "output_type": "stream",
     "text": [
      "HAhahahahahahahahahahaaaa\n",
      "jjjjjjjjjjjjjjjjjjjjjjjjjjjjjjjjj\n"
     ]
    }
   ],
   "source": [
    "from selenium import webdriver\n",
    "import pandas as pd\n",
    "from selenium.webdriver.support.ui import WebDriverWait\n",
    "from selenium.webdriver.support import expected_conditions as EC\n",
    "from selenium.webdriver.common.by import By\n",
    "from selenium.webdriver.support.ui import WebDriverWait \n",
    "\n",
    "driver = webdriver.Chrome(executable_path=\"/home/saransh/Downloads/chromedriver_linux64/chromedriver\")\n",
    "\n",
    "url = \"https://accounts.google.com/AddSession/identifier?service=accountsettings&continue=https%3A%2F%2Fmyaccount.google.com%2F%3Futm_source%3Dsign_in_no_continue&csig=AF-SEnZ7zP_wy-LVaj-l%3A1576425599&flowName=GlifWebSignIn&flowEntry=AddSession\"\n",
    "driver.get(url)\n",
    "driver.find_element_by_id(\"identifierId\").send_keys(\"jn.santosh70@gmail.com\")\n",
    "driver.find_element_by_id(\"identifierNext\").click()\n",
    "\n",
    "WebDriverWait(driver,10).until(EC.presence_of_all_elements_located((By.ID, 'password')))\n",
    "\n",
    "print(\"HAhahahahahahahahahahaaaa\")\n",
    "\n",
    "driver.find_element_by_xpath('//*[contains(concat( \" \", @class, \" \" ), concat( \" \", \"zHQkBf\", \" \" ))]').send_keys(\"9829770913\")\n",
    "\n",
    "print(\"jjjjjjjjjjjjjjjjjjjjjjjjjjjjjjjjj\")"
   ]
  },
  {
   "cell_type": "code",
   "execution_count": null,
   "metadata": {},
   "outputs": [],
   "source": [
    "\n"
   ]
  },
  {
   "cell_type": "code",
   "execution_count": null,
   "metadata": {},
   "outputs": [],
   "source": []
  }
 ],
 "metadata": {
  "kernelspec": {
   "display_name": "Python 3",
   "language": "python",
   "name": "python3"
  },
  "language_info": {
   "codemirror_mode": {
    "name": "ipython",
    "version": 3
   },
   "file_extension": ".py",
   "mimetype": "text/x-python",
   "name": "python",
   "nbconvert_exporter": "python",
   "pygments_lexer": "ipython3",
   "version": "3.7.3"
  }
 },
 "nbformat": 4,
 "nbformat_minor": 2
}
